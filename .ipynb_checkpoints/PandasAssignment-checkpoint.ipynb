{
 "cells": [
  {
   "cell_type": "code",
   "execution_count": 1,
   "id": "e8cec34d",
   "metadata": {},
   "outputs": [],
   "source": [
    "import numpy as np\n",
    "import pandas as pd"
   ]
  },
  {
   "cell_type": "markdown",
   "id": "696c5bbf",
   "metadata": {},
   "source": [
    "# Assignment 1\n",
    "\n",
    "    1. Create a Series object from a list of 10 items using a customized index values.\n",
    "    2. Create a Series object from a dictionary of 10 items.\n",
    "    3. Create a DataFrame object from a Series object with a customized index values.\n",
    "    4. Create a DataFrame object generated from random values of 5 rows by 5 columns numpy array. Give each columns a title        and each index a name.\n",
    "    5. Separate the DataFrame in number 4 to its individual Index, Values and Colomns\n",
    "\n"
   ]
  },
  {
   "cell_type": "code",
   "execution_count": 2,
   "id": "e88d69ba",
   "metadata": {},
   "outputs": [
    {
     "data": {
      "text/plain": [
       "i       3\n",
       "ii      5\n",
       "iii     1\n",
       "iv      2\n",
       "v       6\n",
       "vi      7\n",
       "vii     8\n",
       "viii    9\n",
       "ix      0\n",
       "x       4\n",
       "dtype: int64"
      ]
     },
     "execution_count": 2,
     "metadata": {},
     "output_type": "execute_result"
    }
   ],
   "source": [
    "# 1. Create a Series object from a list of 10 items using a customized index values.\n",
    "series = pd.Series([3, 5, 1, 2, 6, 7, 8, 9, 0, 4], index=['i', 'ii', 'iii', 'iv', 'v', 'vi', 'vii', 'viii', 'ix', 'x'])\n",
    "series"
   ]
  },
  {
   "cell_type": "code",
   "execution_count": 3,
   "id": "917ab885",
   "metadata": {},
   "outputs": [
    {
     "data": {
      "text/plain": [
       "Tola        20\n",
       "Sade        22\n",
       "Bola        27\n",
       "Sunday      34\n",
       "Kehinde     25\n",
       "James       35\n",
       "Lola        36\n",
       "Goodluck    26\n",
       "Grace       22\n",
       "Tunde       29\n",
       "dtype: int64"
      ]
     },
     "execution_count": 3,
     "metadata": {},
     "output_type": "execute_result"
    }
   ],
   "source": [
    "# 2. Create a Series object from a dictionary of 10 items.\n",
    "age = {'Tola': 20, 'Sade': 22, 'Bola': 27, 'Sunday': 34, 'Kehinde': 25, 'James': 35, 'Lola': 36, 'Goodluck': 26, 'Grace': 22, 'Tunde': 29}\n",
    "age_series = pd.Series(age)\n",
    "age_series"
   ]
  },
  {
   "cell_type": "code",
   "execution_count": 4,
   "id": "213415f7",
   "metadata": {},
   "outputs": [
    {
     "data": {
      "text/html": [
       "<div>\n",
       "<style scoped>\n",
       "    .dataframe tbody tr th:only-of-type {\n",
       "        vertical-align: middle;\n",
       "    }\n",
       "\n",
       "    .dataframe tbody tr th {\n",
       "        vertical-align: top;\n",
       "    }\n",
       "\n",
       "    .dataframe thead th {\n",
       "        text-align: right;\n",
       "    }\n",
       "</style>\n",
       "<table border=\"1\" class=\"dataframe\">\n",
       "  <thead>\n",
       "    <tr style=\"text-align: right;\">\n",
       "      <th></th>\n",
       "      <th>Age</th>\n",
       "    </tr>\n",
       "  </thead>\n",
       "  <tbody>\n",
       "    <tr>\n",
       "      <th>Tola</th>\n",
       "      <td>20</td>\n",
       "    </tr>\n",
       "    <tr>\n",
       "      <th>Sade</th>\n",
       "      <td>22</td>\n",
       "    </tr>\n",
       "    <tr>\n",
       "      <th>Bola</th>\n",
       "      <td>27</td>\n",
       "    </tr>\n",
       "    <tr>\n",
       "      <th>Sunday</th>\n",
       "      <td>34</td>\n",
       "    </tr>\n",
       "    <tr>\n",
       "      <th>Kehinde</th>\n",
       "      <td>25</td>\n",
       "    </tr>\n",
       "    <tr>\n",
       "      <th>James</th>\n",
       "      <td>35</td>\n",
       "    </tr>\n",
       "    <tr>\n",
       "      <th>Lola</th>\n",
       "      <td>36</td>\n",
       "    </tr>\n",
       "    <tr>\n",
       "      <th>Goodluck</th>\n",
       "      <td>26</td>\n",
       "    </tr>\n",
       "    <tr>\n",
       "      <th>Grace</th>\n",
       "      <td>22</td>\n",
       "    </tr>\n",
       "    <tr>\n",
       "      <th>Tunde</th>\n",
       "      <td>29</td>\n",
       "    </tr>\n",
       "  </tbody>\n",
       "</table>\n",
       "</div>"
      ],
      "text/plain": [
       "          Age\n",
       "Tola       20\n",
       "Sade       22\n",
       "Bola       27\n",
       "Sunday     34\n",
       "Kehinde    25\n",
       "James      35\n",
       "Lola       36\n",
       "Goodluck   26\n",
       "Grace      22\n",
       "Tunde      29"
      ]
     },
     "execution_count": 4,
     "metadata": {},
     "output_type": "execute_result"
    }
   ],
   "source": [
    "# 3. Create a DataFrame object from a Series object with a customized index values\n",
    "ageOfStudents = pd.DataFrame({'Age': age_series})\n",
    "ageOfStudents"
   ]
  },
  {
   "cell_type": "code",
   "execution_count": 5,
   "id": "c1983a86",
   "metadata": {},
   "outputs": [
    {
     "data": {
      "text/html": [
       "<div>\n",
       "<style scoped>\n",
       "    .dataframe tbody tr th:only-of-type {\n",
       "        vertical-align: middle;\n",
       "    }\n",
       "\n",
       "    .dataframe tbody tr th {\n",
       "        vertical-align: top;\n",
       "    }\n",
       "\n",
       "    .dataframe thead th {\n",
       "        text-align: right;\n",
       "    }\n",
       "</style>\n",
       "<table border=\"1\" class=\"dataframe\">\n",
       "  <thead>\n",
       "    <tr style=\"text-align: right;\">\n",
       "      <th></th>\n",
       "      <th>January (%)</th>\n",
       "      <th>February (%)</th>\n",
       "      <th>March (%)</th>\n",
       "      <th>April (%)</th>\n",
       "      <th>May (%)</th>\n",
       "    </tr>\n",
       "  </thead>\n",
       "  <tbody>\n",
       "    <tr>\n",
       "      <th>Oyo</th>\n",
       "      <td>91</td>\n",
       "      <td>92</td>\n",
       "      <td>25</td>\n",
       "      <td>28</td>\n",
       "      <td>49</td>\n",
       "    </tr>\n",
       "    <tr>\n",
       "      <th>Ogun</th>\n",
       "      <td>39</td>\n",
       "      <td>20</td>\n",
       "      <td>16</td>\n",
       "      <td>91</td>\n",
       "      <td>68</td>\n",
       "    </tr>\n",
       "    <tr>\n",
       "      <th>Lagos</th>\n",
       "      <td>92</td>\n",
       "      <td>93</td>\n",
       "      <td>34</td>\n",
       "      <td>73</td>\n",
       "      <td>21</td>\n",
       "    </tr>\n",
       "    <tr>\n",
       "      <th>Rivers</th>\n",
       "      <td>16</td>\n",
       "      <td>11</td>\n",
       "      <td>19</td>\n",
       "      <td>10</td>\n",
       "      <td>94</td>\n",
       "    </tr>\n",
       "    <tr>\n",
       "      <th>Kwara</th>\n",
       "      <td>52</td>\n",
       "      <td>62</td>\n",
       "      <td>43</td>\n",
       "      <td>80</td>\n",
       "      <td>59</td>\n",
       "    </tr>\n",
       "  </tbody>\n",
       "</table>\n",
       "</div>"
      ],
      "text/plain": [
       "        January (%)  February (%)  March (%)  April (%)  May (%)\n",
       "Oyo              91            92         25         28       49\n",
       "Ogun             39            20         16         91       68\n",
       "Lagos            92            93         34         73       21\n",
       "Rivers           16            11         19         10       94\n",
       "Kwara            52            62         43         80       59"
      ]
     },
     "execution_count": 5,
     "metadata": {},
     "output_type": "execute_result"
    }
   ],
   "source": [
    "# 4. Create a DataFrame object generated from random values of 5 rows by 5 columns numpy array. Give each columns a title \n",
    "# and each index a name.\n",
    "randData = np.random.randint(0,100,(5,5))\n",
    "percentageOfRainfall = pd.DataFrame(randData, columns=['January (%)', \"February (%)\", 'March (%)', 'April (%)', 'May (%)'], \n",
    "                          index=['Oyo', 'Ogun', 'Lagos', 'Rivers', 'Kwara'])\n",
    "percentageOfRainfall"
   ]
  },
  {
   "cell_type": "code",
   "execution_count": 6,
   "id": "50feca29",
   "metadata": {},
   "outputs": [
    {
     "name": "stdout",
     "output_type": "stream",
     "text": [
      "The indexes of the data are:\n",
      " Index(['Oyo', 'Ogun', 'Lagos', 'Rivers', 'Kwara'], dtype='object')\n",
      "The values of the data are:\n",
      " [[91 92 25 28 49]\n",
      " [39 20 16 91 68]\n",
      " [92 93 34 73 21]\n",
      " [16 11 19 10 94]\n",
      " [52 62 43 80 59]]\n",
      "The columns of the data are:\n",
      " Index(['January (%)', 'February (%)', 'March (%)', 'April (%)', 'May (%)'], dtype='object')\n"
     ]
    }
   ],
   "source": [
    "# 5. Separate the DataFrame in number 4 to its individual Index, Values and Colomns\n",
    "print('The indexes of the data are:\\n', percentageOfRainfall.index)\n",
    "print('The values of the data are:\\n', percentageOfRainfall.values)\n",
    "print('The columns of the data are:\\n', percentageOfRainfall.columns)\n"
   ]
  }
 ],
 "metadata": {
  "kernelspec": {
   "display_name": "Python 3",
   "language": "python",
   "name": "python3"
  },
  "language_info": {
   "codemirror_mode": {
    "name": "ipython",
    "version": 3
   },
   "file_extension": ".py",
   "mimetype": "text/x-python",
   "name": "python",
   "nbconvert_exporter": "python",
   "pygments_lexer": "ipython3",
   "version": "3.8.8"
  }
 },
 "nbformat": 4,
 "nbformat_minor": 5
}
